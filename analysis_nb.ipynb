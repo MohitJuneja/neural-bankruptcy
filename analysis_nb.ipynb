{
 "cells": [
  {
   "cell_type": "code",
   "execution_count": 1,
   "metadata": {
    "collapsed": false
   },
   "outputs": [],
   "source": [
    "import importlib\n",
    "import pandas as pd\n",
    "import matplotlib.pyplot as plt\n",
    "%matplotlib inline"
   ]
  },
  {
   "cell_type": "code",
   "execution_count": null,
   "metadata": {
    "collapsed": true
   },
   "outputs": [],
   "source": []
  },
  {
   "cell_type": "code",
   "execution_count": null,
   "metadata": {
    "collapsed": true
   },
   "outputs": [],
   "source": []
  },
  {
   "cell_type": "code",
   "execution_count": null,
   "metadata": {
    "collapsed": true
   },
   "outputs": [],
   "source": []
  },
  {
   "cell_type": "code",
   "execution_count": null,
   "metadata": {
    "collapsed": true
   },
   "outputs": [],
   "source": []
  },
  {
   "cell_type": "code",
   "execution_count": null,
   "metadata": {
    "collapsed": true
   },
   "outputs": [],
   "source": []
  },
  {
   "cell_type": "code",
   "execution_count": null,
   "metadata": {
    "collapsed": true
   },
   "outputs": [],
   "source": []
  },
  {
   "cell_type": "markdown",
   "metadata": {},
   "source": [
    "## Explore the amount of nans"
   ]
  },
  {
   "cell_type": "code",
   "execution_count": 27,
   "metadata": {
    "collapsed": false
   },
   "outputs": [
    {
     "name": "stdout",
     "output_type": "stream",
     "text": [
      "In total we have 7027 rows and 65 features\n"
     ]
    },
    {
     "data": {
      "image/png": "[encoded data removed]",
      "text/plain": [
       "<matplotlib.figure.Figure at 0x1194db190>"
      ]
     },
     "metadata": {},
     "output_type": "display_data"
    },
    {
     "data": {
      "image/png": "[encoded data removed]",
      "text/plain": [
       "<matplotlib.figure.Figure at 0x119231e10>"
      ]
     },
     "metadata": {},
     "output_type": "display_data"
    },
    {
     "name": "stdout",
     "output_type": "stream",
     "text": [
      "Total share of nans is 0.0127749012052\n"
     ]
    }
   ],
   "source": [
    "# Explore nans\n",
    "file_path = './data/Dane/1year.csv'\n",
    "data = pd.read_csv(file_path, na_values='?')\n",
    "print('In total we have {} rows and {} features'.format(*data.shape))\n",
    "na_data = pd.isnull(data)\n",
    "num_nans = na_data.sum(axis=1)\n",
    "plt.figure(1)\n",
    "plt.hist(num_nans, bins=num_nans.max())\n",
    "plt.title('nans per row')\n",
    "plt.figure(2)\n",
    "plt.hist(na_data.sum(axis=0), bins=50)\n",
    "plt.title('nans per feature')\n",
    "plt.show()\n",
    "nan_share_tot = num_nans.sum()/float((data.shape[0]*data.shape[1]))\n",
    "print('Total share of nans is {}'.format(nan_share_tot)) "
   ]
  },
  {
   "cell_type": "code",
   "execution_count": 40,
   "metadata": {
    "collapsed": false,
    "scrolled": true
   },
   "outputs": [
    {
     "name": "stdout",
     "output_type": "stream",
     "text": [
      "Then we get 0.10089654191 share with at least one nan.\n",
      "The total share of nans is then 0.00332730217461\n"
     ]
    }
   ],
   "source": [
    "# What happens if we through away the two features with highest frequency nans?\n",
    "na_data_dropped_some = na_data.drop(['attr37', 'attr21'], axis=1)\n",
    "num_nan_dropped = na_data_dropped_some.sum(axis=1)\n",
    "share_with_nan = (num_nan_dropped != 0).mean()\n",
    "print('Then we get {} share with at least one nan.'.format(share_with_nan))\n",
    "data_dropped = data.drop(['attr37', 'attr21'], axis=1)\n",
    "nan_share_dropped = num_nan_dropped.sum()/float((data_dropped.shape[0]*data_dropped.shape[1]))\n",
    "print('The total share of nans is then {}'.format(nan_share_dropped))"
   ]
  },
  {
   "cell_type": "code",
   "execution_count": null,
   "metadata": {
    "collapsed": false
   },
   "outputs": [],
   "source": []
  },
  {
   "cell_type": "code",
   "execution_count": null,
   "metadata": {
    "collapsed": true
   },
   "outputs": [],
   "source": []
  }
 ],
 "metadata": {
  "kernelspec": {
   "display_name": "Python 2",
   "language": "python",
   "name": "python2"
  },
  "language_info": {
   "codemirror_mode": {
    "name": "ipython",
    "version": 2
   },
   "file_extension": ".py",
   "mimetype": "text/x-python",
   "name": "python",
   "nbconvert_exporter": "python",
   "pygments_lexer": "ipython2",
   "version": "2.7.13"
  }
 },
 "nbformat": 4,
 "nbformat_minor": 1
}
