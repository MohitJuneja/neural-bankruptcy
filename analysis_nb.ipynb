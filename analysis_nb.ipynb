{
 "cells": [
  {
   "cell_type": "code",
   "execution_count": null,
   "metadata": {
    "collapsed": false
   },
   "outputs": [],
   "source": [
    "import importlib\n",
    "import pandas as pd\n",
    "import matplotlib.pyplot as plt\n",
    "%matplotlib qt4\n",
    "import seaborn as sns"
   ]
  },
  {
   "cell_type": "code",
   "execution_count": null,
   "metadata": {
    "collapsed": true
   },
   "outputs": [],
   "source": []
  },
  {
   "cell_type": "code",
   "execution_count": null,
   "metadata": {
    "collapsed": true
   },
   "outputs": [],
   "source": []
  },
  {
   "cell_type": "code",
   "execution_count": null,
   "metadata": {
    "collapsed": true
   },
   "outputs": [],
   "source": []
  },
  {
   "cell_type": "code",
   "execution_count": null,
   "metadata": {
    "collapsed": true
   },
   "outputs": [],
   "source": []
  },
  {
   "cell_type": "code",
   "execution_count": null,
   "metadata": {
    "collapsed": true
   },
   "outputs": [],
   "source": []
  },
  {
   "cell_type": "code",
   "execution_count": null,
   "metadata": {
    "collapsed": true
   },
   "outputs": [],
   "source": []
  },
  {
   "cell_type": "markdown",
   "metadata": {},
   "source": [
    "## Explore the amount of nans"
   ]
  },
  {
   "cell_type": "code",
   "execution_count": null,
   "metadata": {
    "collapsed": false
   },
   "outputs": [],
   "source": [
    "# Explore nans\n",
    "with sns.plotting_context('paper', font_scale=2): #, rc={\"figure.figsize\": [6.4,4.4]}):\n",
    "    file_path = './data/Dane/1year.csv'\n",
    "    data = pd.read_csv(file_path, na_values='?').drop(['class'],axis=1)\n",
    "    print('In total we have {} rows and {} features'.format(*data.shape))\n",
    "    print('Total share of nans is {}'.format(nan_share_tot)) \n",
    "    na_data = pd.isnull(data)\n",
    "    num_nans = na_data.sum(axis=1)\n",
    "    # Features with most nans\n",
    "    print((na_data.sum(axis=0)/len(na_data)).sort_values(ascending=False)[:10])\n",
    "    plt.figure(1)\n",
    "    plt.hist(na_data.sum(axis=0).drop(['attr37', 'attr21'])/len(na_data)*100, bins=25)\n",
    "    plt.title('Missing values per feature')\n",
    "    plt.xlabel('% missing values')\n",
    "    plt.ylabel('Features')\n",
    "    savepath = 'hist_nan_features.eps'\n",
    "    plt.savefig(savepath, format='eps', bbox_inches = 'tight')\n",
    "    plt.figure(2)\n",
    "    plt.hist(num_nans, bins=num_nans.max())\n",
    "    plt.title('Missing values per company')\n",
    "    plt.xlabel('Number of missing values')\n",
    "    plt.ylabel('Companies')\n",
    "    savepath = 'hist_nan_companies.eps'\n",
    "    plt.savefig(savepath, format='eps', bbox_inches = 'tight')\n",
    "    plt.show()\n",
    "    nan_share_tot = num_nans.sum()/float((data.shape[0]*data.shape[1]))"
   ]
  },
  {
   "cell_type": "code",
   "execution_count": null,
   "metadata": {
    "collapsed": false
   },
   "outputs": [],
   "source": []
  },
  {
   "cell_type": "code",
   "execution_count": null,
   "metadata": {
    "collapsed": false,
    "scrolled": true
   },
   "outputs": [],
   "source": [
    "# What happens if we through away the two features with highest frequency nans?\n",
    "na_data_dropped_some = na_data.drop(['attr37', 'attr21'], axis=1)\n",
    "num_nan_dropped = na_data_dropped_some.sum(axis=1)\n",
    "share_with_nan = (num_nan_dropped != 0).mean()\n",
    "print('Then we get {} share with at least one nan.'.format(share_with_nan))\n",
    "data_dropped = data.drop(['attr37', 'attr21'], axis=1)\n",
    "nan_share_dropped = num_nan_dropped.sum()/float((data_dropped.shape[0]*data_dropped.shape[1]))\n",
    "print('The total share of nans is then {}'.format(nan_share_dropped))"
   ]
  },
  {
   "cell_type": "code",
   "execution_count": null,
   "metadata": {
    "collapsed": false
   },
   "outputs": [],
   "source": []
  },
  {
   "cell_type": "code",
   "execution_count": null,
   "metadata": {
    "collapsed": true
   },
   "outputs": [],
   "source": []
  }
 ],
 "metadata": {
  "kernelspec": {
   "display_name": "Python 3",
   "language": "python",
   "name": "python3"
  },
  "language_info": {
   "codemirror_mode": {
    "name": "ipython",
    "version": 3
   },
   "file_extension": ".py",
   "mimetype": "text/x-python",
   "name": "python",
   "nbconvert_exporter": "python",
   "pygments_lexer": "ipython3",
   "version": "3.5.2"
  }
 },
 "nbformat": 4,
 "nbformat_minor": 1
}
